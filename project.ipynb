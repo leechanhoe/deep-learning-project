{
  "cells": [
    {
      "cell_type": "markdown",
      "metadata": {
        "id": "view-in-github",
        "colab_type": "text"
      },
      "source": [
        "<a href=\"https://colab.research.google.com/github/leechanhoe/deep-learning-project/blob/master/project.ipynb\" target=\"_parent\"><img src=\"https://colab.research.google.com/assets/colab-badge.svg\" alt=\"Open In Colab\"/></a>"
      ]
    },
    {
      "cell_type": "code",
      "execution_count": null,
      "metadata": {
        "id": "t6fIDe_mrb3E"
      },
      "outputs": [],
      "source": [
        "from tensorflow import keras\n",
        "import tensorflow as tf\n",
        "from tensorflow.keras.models import Sequential\n",
        "from tensorflow.keras.layers import Conv2D, MaxPooling2D, Dropout, Flatten, Dense\n",
        "from tensorflow.keras.optimizers import Adam\n",
        "from tensorflow.keras.utils import to_categorical\n",
        "from sklearn.model_selection import train_test_split\n",
        "from tensorflow.keras.models import load_model\n",
        "\n",
        "import pickle\n",
        "import numpy as np\n",
        "import matplotlib.pyplot as plt"
      ]
    },
    {
      "cell_type": "code",
      "execution_count": 4,
      "metadata": {
        "id": "wXblABLdeRcx"
      },
      "outputs": [],
      "source": [
        "def load_data(data, labels):\n",
        "    # 데이터셋의 이미지 개수\n",
        "    num_images = data.shape[0]\n",
        "\n",
        "     # (10000, 3072) 형태인 데이터를 (10000, 3, 32, 32) 형태로 변경\n",
        "    images = np.reshape(data, (num_images, 32, 32, 3), order='F')\n",
        "\n",
        "    # (10000, 3, 32, 32) 형태의 이미지 데이터를 (10000, 32, 32, 3)로 변경\n",
        "    images = np.swapaxes(images, 1, 2)\n",
        "    \n",
        "    # 레이블과 함께 튜플로 반환\n",
        "    return images, labels\n",
        "  "
      ]
    },
    {
      "cell_type": "code",
      "execution_count": 14,
      "metadata": {
        "id": "Y_7rnJdkh-hR"
      },
      "outputs": [],
      "source": [
        "def pre_process(data): \n",
        "    images, lbls = load_data(data[b'data'], data[b'labels'])\n",
        "    images = images.astype('float32') / 255.\n",
        "\n",
        "    x_train, x_test, y_train, y_test = train_test_split(images, lbls, test_size=0.2)\n",
        "\n",
        "    y_train = np.array(y_train)\n",
        "    y_test = np.array(y_test)\n",
        "    return x_train, x_test, y_train, y_test"
      ]
    },
    {
      "cell_type": "code",
      "execution_count": null,
      "metadata": {
        "id": "pjRrULekjk7v"
      },
      "outputs": [],
      "source": [
        "def create_cnn_model():\n",
        "    model = Sequential()\n",
        "\n",
        "    model.add(Conv2D(32, (3, 3), padding='same', activation='relu', input_shape=(32, 32, 3)))\n",
        "    # model.add(Conv2D(32, (3, 3), activation='relu'))\n",
        "    model.add(MaxPooling2D(pool_size=(2, 2)))\n",
        "    model.add(Dropout(0.25))\n",
        "\n",
        "    model.add(Conv2D(64, (3, 3), padding='same', activation='relu'))\n",
        "    # model.add(Conv2D(64, (3, 3), activation='relu'))\n",
        "    model.add(MaxPooling2D(pool_size=(2, 2)))\n",
        "    model.add(Dropout(0.25))\n",
        "\n",
        "    model.add(Flatten())\n",
        "    model.add(Dense(256, activation='relu'))\n",
        "    model.add(Dropout(0.5))\n",
        "    model.add(Dense(10, activation='softmax'))\n",
        "    \n",
        "    return model\n",
        "\n",
        "model = create_cnn_model()\n",
        "model.compile(loss='sparse_categorical_crossentropy', optimizer=Adam(learning_rate=0.0001), metrics=['accuracy'])\n",
        "keras.utils.plot_model(model, show_shapes=True)"
      ]
    },
    {
      "cell_type": "code",
      "execution_count": 9,
      "metadata": {
        "id": "RS1hK6OTden8"
      },
      "outputs": [],
      "source": [
        "def train(model, filepaths, epochs=30, batch_size=64, callback=[]):\n",
        "  \n",
        "    history = []\n",
        "    for filepath in filepaths:\n",
        "        # 데이터 로드 및 전처리\n",
        "        with open(filepath, 'rb') as f:\n",
        "            data = pickle.load(f, encoding='bytes')\n",
        "\n",
        "        x_train, x_test, y_train, y_test = pre_process(data)\n",
        "\n",
        "        # 모델 학습\n",
        "        history.append(model.fit(x_train, y_train, epochs=epochs, batch_size=batch_size, validation_data=(x_test, y_test), callbacks=callback))\n",
        "    return model, history"
      ]
    },
    {
      "cell_type": "code",
      "execution_count": 24,
      "metadata": {
        "id": "lGJcuW65jqtO"
      },
      "outputs": [],
      "source": [
        "file_name = ['/content/drive/MyDrive/Colab Notebooks/data/data_batch_1',\n",
        "    '/content/drive/MyDrive/Colab Notebooks/data/data_batch_2',\n",
        "    '/content/drive/MyDrive/Colab Notebooks/data/data_batch_3',\n",
        "    '/content/drive/MyDrive/Colab Notebooks/data/data_batch_4',\n",
        "    '/content/drive/MyDrive/Colab Notebooks/data/data_batch_5']\n",
        "\n",
        "checkpoint = keras.callbacks.ModelCheckpoint('best_cnn_model.h5', save_best_only=True)\n",
        "# 5번의 연속적인 epoch 동안 개선이 없을 때 학습이 중단되도록 함\n",
        "early_stopping = keras.callbacks.EarlyStopping(patience=5, restore_best_weights=True)\n",
        "\n",
        "callback = [checkpoint, early_stopping]\n",
        "\n",
        "# model, history = train(model, file_name, epochs=30, batch_size=64, callback)"
      ]
    },
    {
      "cell_type": "code",
      "source": [
        "with open('/content/drive/MyDrive/Colab Notebooks/data/test_batch', 'rb') as f:\n",
        "    data = pickle.load(f, encoding='bytes')\n",
        "\n",
        "x_train, x_test, y_train, y_test = pre_process(data)"
      ],
      "metadata": {
        "id": "xVwiK3f48xFG"
      },
      "execution_count": 15,
      "outputs": []
    },
    {
      "cell_type": "code",
      "execution_count": 26,
      "metadata": {
        "colab": {
          "base_uri": "https://localhost:8080/"
        },
        "id": "fcgYtEUijv0G",
        "outputId": "3bba99b0-05d2-4733-c4cf-916a40ec8d54"
      },
      "outputs": [
        {
          "output_type": "stream",
          "name": "stdout",
          "text": [
            "63/63 [==============================] - 2s 34ms/step - loss: 0.9246 - accuracy: 0.6710\n",
            "Test loss: 0.9245866537094116\n",
            "Test accuracy: 0.6710000038146973\n"
          ]
        }
      ],
      "source": [
        "# 모델 평가\n",
        "scores = model.evaluate(x_test, y_test, verbose=1)\n",
        "print('Test loss:', scores[0])\n",
        "print('Test accuracy:', scores[1])"
      ]
    },
    {
      "cell_type": "code",
      "execution_count": null,
      "metadata": {
        "id": "IVaF2Y5SADEz"
      },
      "outputs": [],
      "source": [
        "for i in range(len(history)):\n",
        "    plt.plot(history[i].history['loss'])\n",
        "    plt.plot(history[i].history['val_loss'])\n",
        "    plt.xlabel('epoch')\n",
        "    plt.ylabel('loss')\n",
        "    plt.legend(['train', 'val'])\n",
        "    plt.show()"
      ]
    },
    {
      "cell_type": "code",
      "source": [
        "from tensorflow.keras.preprocessing.image import ImageDataGenerator\n",
        "\n",
        "def train_modifyed_img(model, filepaths, epochs=10, batch_size=64, callback=[]):\n",
        "    datagen = ImageDataGenerator(rotation_range=15,width_shift_range=0.1, height_shift_range=0.1, horizontal_flip=True)\n",
        "    \n",
        "    history = []\n",
        "    for filepath in filepaths:\n",
        "        with open(filepath, 'rb') as f:\n",
        "            data = pickle.load(f, encoding='bytes')\n",
        "        x_train, x_test, y_train, y_test = pre_process(data)\n",
        "        datagen.fit(x_train)\n",
        "\n",
        "        history.append(model.fit(datagen.flow(x_train, y_train, batch_size=batch_size), epochs=epochs, validation_data=(x_test, y_test), callbacks=callback))\n",
        "    \n",
        "    return model, history"
      ],
      "metadata": {
        "id": "PZDICMtUDWFW"
      },
      "execution_count": 21,
      "outputs": []
    },
    {
      "cell_type": "code",
      "source": [
        "model, history = train_modifyed_img(model, file_name, epochs=10, batch_size=64, callback=callback)"
      ],
      "metadata": {
        "id": "O2KY0HihEsct"
      },
      "execution_count": null,
      "outputs": []
    },
    {
      "cell_type": "code",
      "execution_count": null,
      "metadata": {
        "id": "wsC_SQE7Qadu"
      },
      "outputs": [],
      "source": [
        "plt.imshow(x_test[0].reshape(32, 32, 3))\n",
        "plt.show()"
      ]
    }
  ],
  "metadata": {
    "colab": {
      "provenance": [],
      "mount_file_id": "1XrwAdqMzXRIbsAeEQlNCUNpAUT3XXAn6",
      "authorship_tag": "ABX9TyNWtMN5TkP6gcXC6z165ChI",
      "include_colab_link": true
    },
    "kernelspec": {
      "display_name": "Python 3",
      "name": "python3"
    },
    "language_info": {
      "name": "python"
    }
  },
  "nbformat": 4,
  "nbformat_minor": 0
}