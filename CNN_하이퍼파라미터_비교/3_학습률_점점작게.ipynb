{
  "cells": [
    {
      "cell_type": "code",
      "execution_count": null,
      "metadata": {
        "id": "CwX92Dgf3QZq",
        "outputId": "373c6fa6-ac61-4197-dac6-1cb1e1c0d63a",
        "colab": {
          "base_uri": "https://localhost:8080/"
        }
      },
      "outputs": [
        {
          "output_type": "stream",
          "name": "stdout",
          "text": [
            "Downloading data from https://www.cs.toronto.edu/~kriz/cifar-10-python.tar.gz\n",
            "170498071/170498071 [==============================] - 4s 0us/step\n"
          ]
        }
      ],
      "source": [
        "from keras.datasets import cifar10\n",
        "\n",
        "(train_images, train_labels), (test_images, test_labels) = cifar10.load_data()"
      ]
    },
    {
      "cell_type": "code",
      "execution_count": null,
      "metadata": {
        "id": "KAflhzsZ3TN1"
      },
      "outputs": [],
      "source": [
        "from keras.utils import to_categorical\n",
        "\n",
        "train_images = train_images.astype('float32') / 255.0\n",
        "test_images = test_images.astype('float32') / 255.0\n",
        "\n",
        "train_labels = to_categorical(train_labels, 10)\n",
        "test_labels = to_categorical(test_labels, 10)"
      ]
    },
    {
      "cell_type": "code",
      "execution_count": null,
      "metadata": {
        "id": "1yMHoiDR3W1N"
      },
      "outputs": [],
      "source": [
        "from keras.models import Sequential\n",
        "from keras.layers import Conv2D, MaxPool2D, Dropout, Flatten, Dense, BatchNormalization\n",
        "\n",
        "model = Sequential()\n",
        "\n",
        "# Convolutional Block (Conv-Conv-Pool-Dropout)\n",
        "model.add(Conv2D(32, (3, 3), activation='relu', padding='same', input_shape=(32, 32, 3)))\n",
        "model.add(BatchNormalization())\n",
        "model.add(Conv2D(32, (3, 3), activation='relu', padding='same'))\n",
        "model.add(MaxPool2D(pool_size=(2, 2)))\n",
        "model.add(Dropout(0.25))\n",
        "\n",
        "# Convolutional Block (Conv-Conv-Pool-Dropout)\n",
        "model.add(Conv2D(64, (3, 3), activation='relu', padding='same'))\n",
        "model.add(BatchNormalization())\n",
        "model.add(Conv2D(64, (3, 3), activation='relu', padding='same'))\n",
        "model.add(MaxPool2D(pool_size=(2, 2)))\n",
        "model.add(Dropout(0.25))\n",
        "\n",
        "model.add(Conv2D(128, (3, 3), padding='same', activation='relu'))\n",
        "model.add(BatchNormalization())\n",
        "model.add(MaxPool2D(pool_size=(2, 2)))\n",
        "model.add(Dropout(0.25))\n",
        "\n",
        "# Classifying\n",
        "model.add(Flatten())\n",
        "model.add(Dense(512, activation='relu'))\n",
        "model.add(Dropout(0.5))\n",
        "model.add(Dense(10, activation='softmax'))"
      ]
    },
    {
      "cell_type": "code",
      "execution_count": null,
      "metadata": {
        "id": "lgb6I6rm3c8X"
      },
      "outputs": [],
      "source": [
        "from keras.optimizers import Adam\n",
        "\n",
        "model.compile(loss='categorical_crossentropy', optimizer=Adam(lr=0.001), metrics=['acc'])"
      ]
    },
    {
      "cell_type": "code",
      "execution_count": null,
      "metadata": {
        "id": "Y91gJ8MB3hpV"
      },
      "outputs": [],
      "source": [
        "import keras\n",
        "\n",
        "def lr_schedule(epoch):\n",
        "    lrate = 0.001\n",
        "    if epoch > 10:\n",
        "        lrate = 0.0005\n",
        "    if epoch > 20:\n",
        "        lrate = 0.0001\n",
        "    if epoch > 30:\n",
        "        lrate = 0.00005\n",
        "    return lrate\n",
        "\n",
        "checkpoint = keras.callbacks.ModelCheckpoint('best_cnn_model.h5', save_best_only=True)\n",
        "# 20번의 연속적인 epoch 동안 개선이 없을 때 학습이 중단되도록 함\n",
        "early_stopping = keras.callbacks.EarlyStopping(patience=20, restore_best_weights=True)"
      ]
    },
    {
      "cell_type": "code",
      "execution_count": null,
      "metadata": {
        "id": "U9A3SDOUri8P",
        "outputId": "cfa462b1-2da2-4b2e-d82f-b28ed65bb7da",
        "colab": {
          "base_uri": "https://localhost:8080/"
        }
      },
      "outputs": [
        {
          "output_type": "stream",
          "name": "stdout",
          "text": [
            "Epoch 1/100\n",
            "352/352 [==============================] - 7s 19ms/step - loss: 1.7466 - acc: 0.3860 - val_loss: 3.6994 - val_acc: 0.2482 - lr: 0.0010\n",
            "Epoch 2/100\n",
            "352/352 [==============================] - 6s 17ms/step - loss: 1.3112 - acc: 0.5274 - val_loss: 1.4015 - val_acc: 0.5380 - lr: 0.0010\n",
            "Epoch 3/100\n",
            "352/352 [==============================] - 6s 17ms/step - loss: 1.0953 - acc: 0.6079 - val_loss: 0.8952 - val_acc: 0.6870 - lr: 0.0010\n",
            "Epoch 4/100\n",
            "352/352 [==============================] - 6s 17ms/step - loss: 0.9714 - acc: 0.6592 - val_loss: 0.9394 - val_acc: 0.6848 - lr: 0.0010\n",
            "Epoch 5/100\n",
            "352/352 [==============================] - 6s 18ms/step - loss: 0.8784 - acc: 0.6915 - val_loss: 0.7512 - val_acc: 0.7480 - lr: 0.0010\n",
            "Epoch 6/100\n",
            "352/352 [==============================] - 6s 17ms/step - loss: 0.8139 - acc: 0.7148 - val_loss: 0.7691 - val_acc: 0.7488 - lr: 0.0010\n",
            "Epoch 7/100\n",
            "352/352 [==============================] - 6s 17ms/step - loss: 0.7573 - acc: 0.7357 - val_loss: 0.7848 - val_acc: 0.7512 - lr: 0.0010\n",
            "Epoch 8/100\n",
            "352/352 [==============================] - 6s 17ms/step - loss: 0.7102 - acc: 0.7513 - val_loss: 0.6632 - val_acc: 0.7816 - lr: 0.0010\n",
            "Epoch 9/100\n",
            "352/352 [==============================] - 6s 17ms/step - loss: 0.6741 - acc: 0.7668 - val_loss: 0.6146 - val_acc: 0.7916 - lr: 0.0010\n",
            "Epoch 10/100\n",
            "352/352 [==============================] - 6s 17ms/step - loss: 0.6471 - acc: 0.7751 - val_loss: 0.6237 - val_acc: 0.7986 - lr: 0.0010\n",
            "Epoch 11/100\n",
            "352/352 [==============================] - 6s 17ms/step - loss: 0.6111 - acc: 0.7892 - val_loss: 0.6315 - val_acc: 0.7952 - lr: 0.0010\n",
            "Epoch 12/100\n",
            "352/352 [==============================] - 6s 17ms/step - loss: 0.5295 - acc: 0.8151 - val_loss: 0.5743 - val_acc: 0.8256 - lr: 5.0000e-04\n",
            "Epoch 13/100\n",
            "352/352 [==============================] - 6s 17ms/step - loss: 0.4950 - acc: 0.8245 - val_loss: 0.5568 - val_acc: 0.8256 - lr: 5.0000e-04\n",
            "Epoch 14/100\n",
            "352/352 [==============================] - 6s 17ms/step - loss: 0.4790 - acc: 0.8317 - val_loss: 0.5215 - val_acc: 0.8342 - lr: 5.0000e-04\n",
            "Epoch 15/100\n",
            "352/352 [==============================] - 6s 17ms/step - loss: 0.4584 - acc: 0.8376 - val_loss: 0.5432 - val_acc: 0.8336 - lr: 5.0000e-04\n",
            "Epoch 16/100\n",
            "352/352 [==============================] - 6s 17ms/step - loss: 0.4429 - acc: 0.8452 - val_loss: 0.5434 - val_acc: 0.8348 - lr: 5.0000e-04\n",
            "Epoch 17/100\n",
            "352/352 [==============================] - 6s 17ms/step - loss: 0.4273 - acc: 0.8502 - val_loss: 0.5586 - val_acc: 0.8352 - lr: 5.0000e-04\n",
            "Epoch 18/100\n",
            "352/352 [==============================] - 6s 17ms/step - loss: 0.4153 - acc: 0.8548 - val_loss: 0.5657 - val_acc: 0.8336 - lr: 5.0000e-04\n",
            "Epoch 19/100\n",
            "352/352 [==============================] - 6s 16ms/step - loss: 0.4013 - acc: 0.8597 - val_loss: 0.5691 - val_acc: 0.8320 - lr: 5.0000e-04\n",
            "Epoch 20/100\n",
            "352/352 [==============================] - 6s 17ms/step - loss: 0.3890 - acc: 0.8624 - val_loss: 0.5507 - val_acc: 0.8374 - lr: 5.0000e-04\n",
            "Epoch 21/100\n",
            "352/352 [==============================] - 6s 16ms/step - loss: 0.3744 - acc: 0.8677 - val_loss: 0.5241 - val_acc: 0.8436 - lr: 5.0000e-04\n",
            "Epoch 22/100\n",
            "352/352 [==============================] - 6s 17ms/step - loss: 0.3264 - acc: 0.8828 - val_loss: 0.5182 - val_acc: 0.8516 - lr: 1.0000e-04\n",
            "Epoch 23/100\n",
            "352/352 [==============================] - 6s 16ms/step - loss: 0.3093 - acc: 0.8901 - val_loss: 0.5326 - val_acc: 0.8514 - lr: 1.0000e-04\n",
            "Epoch 24/100\n",
            "352/352 [==============================] - 6s 17ms/step - loss: 0.3005 - acc: 0.8931 - val_loss: 0.5239 - val_acc: 0.8526 - lr: 1.0000e-04\n",
            "Epoch 25/100\n",
            "352/352 [==============================] - 6s 17ms/step - loss: 0.2968 - acc: 0.8943 - val_loss: 0.5361 - val_acc: 0.8490 - lr: 1.0000e-04\n",
            "Epoch 26/100\n",
            "352/352 [==============================] - 6s 17ms/step - loss: 0.2944 - acc: 0.8948 - val_loss: 0.5212 - val_acc: 0.8544 - lr: 1.0000e-04\n",
            "Epoch 27/100\n",
            "352/352 [==============================] - 6s 17ms/step - loss: 0.2868 - acc: 0.8981 - val_loss: 0.5120 - val_acc: 0.8550 - lr: 1.0000e-04\n",
            "Epoch 28/100\n",
            "352/352 [==============================] - 6s 18ms/step - loss: 0.2855 - acc: 0.8993 - val_loss: 0.5199 - val_acc: 0.8558 - lr: 1.0000e-04\n",
            "Epoch 29/100\n",
            "352/352 [==============================] - 6s 16ms/step - loss: 0.2815 - acc: 0.8986 - val_loss: 0.5220 - val_acc: 0.8576 - lr: 1.0000e-04\n",
            "Epoch 30/100\n",
            "352/352 [==============================] - 6s 17ms/step - loss: 0.2764 - acc: 0.9020 - val_loss: 0.5280 - val_acc: 0.8554 - lr: 1.0000e-04\n",
            "Epoch 31/100\n",
            "352/352 [==============================] - 6s 17ms/step - loss: 0.2708 - acc: 0.9034 - val_loss: 0.5328 - val_acc: 0.8532 - lr: 1.0000e-04\n",
            "Epoch 32/100\n",
            "352/352 [==============================] - 6s 17ms/step - loss: 0.2650 - acc: 0.9057 - val_loss: 0.5350 - val_acc: 0.8520 - lr: 5.0000e-05\n",
            "Epoch 33/100\n",
            "352/352 [==============================] - 6s 17ms/step - loss: 0.2573 - acc: 0.9078 - val_loss: 0.5422 - val_acc: 0.8556 - lr: 5.0000e-05\n",
            "Epoch 34/100\n",
            "352/352 [==============================] - 6s 17ms/step - loss: 0.2611 - acc: 0.9076 - val_loss: 0.5406 - val_acc: 0.8532 - lr: 5.0000e-05\n",
            "Epoch 35/100\n",
            "352/352 [==============================] - 6s 16ms/step - loss: 0.2570 - acc: 0.9084 - val_loss: 0.5331 - val_acc: 0.8548 - lr: 5.0000e-05\n",
            "Epoch 36/100\n",
            "352/352 [==============================] - 6s 17ms/step - loss: 0.2519 - acc: 0.9108 - val_loss: 0.5508 - val_acc: 0.8500 - lr: 5.0000e-05\n",
            "Epoch 37/100\n",
            "352/352 [==============================] - 6s 17ms/step - loss: 0.2541 - acc: 0.9095 - val_loss: 0.5410 - val_acc: 0.8530 - lr: 5.0000e-05\n",
            "Epoch 38/100\n",
            "352/352 [==============================] - 6s 17ms/step - loss: 0.2505 - acc: 0.9108 - val_loss: 0.5370 - val_acc: 0.8540 - lr: 5.0000e-05\n",
            "Epoch 39/100\n",
            "352/352 [==============================] - 6s 17ms/step - loss: 0.2456 - acc: 0.9125 - val_loss: 0.5412 - val_acc: 0.8530 - lr: 5.0000e-05\n",
            "Epoch 40/100\n",
            "352/352 [==============================] - 6s 17ms/step - loss: 0.2496 - acc: 0.9114 - val_loss: 0.5407 - val_acc: 0.8546 - lr: 5.0000e-05\n",
            "Epoch 41/100\n",
            "352/352 [==============================] - 6s 16ms/step - loss: 0.2469 - acc: 0.9127 - val_loss: 0.5338 - val_acc: 0.8572 - lr: 5.0000e-05\n",
            "Epoch 42/100\n",
            "352/352 [==============================] - 6s 16ms/step - loss: 0.2382 - acc: 0.9152 - val_loss: 0.5471 - val_acc: 0.8566 - lr: 5.0000e-05\n",
            "Epoch 43/100\n",
            "352/352 [==============================] - 6s 17ms/step - loss: 0.2452 - acc: 0.9108 - val_loss: 0.5321 - val_acc: 0.8570 - lr: 5.0000e-05\n",
            "Epoch 44/100\n",
            "352/352 [==============================] - 6s 17ms/step - loss: 0.2414 - acc: 0.9134 - val_loss: 0.5467 - val_acc: 0.8528 - lr: 5.0000e-05\n",
            "Epoch 45/100\n",
            "352/352 [==============================] - 6s 17ms/step - loss: 0.2395 - acc: 0.9144 - val_loss: 0.5303 - val_acc: 0.8542 - lr: 5.0000e-05\n",
            "Epoch 46/100\n",
            "352/352 [==============================] - 6s 17ms/step - loss: 0.2405 - acc: 0.9133 - val_loss: 0.5359 - val_acc: 0.8566 - lr: 5.0000e-05\n",
            "Epoch 47/100\n",
            "352/352 [==============================] - 6s 17ms/step - loss: 0.2377 - acc: 0.9163 - val_loss: 0.5373 - val_acc: 0.8570 - lr: 5.0000e-05\n"
          ]
        }
      ],
      "source": [
        "from keras.callbacks import LearningRateScheduler\n",
        "\n",
        "# 학습률 갈수록 작게 조정 버전\n",
        "history = model.fit(train_images, train_labels, batch_size=128, epochs=100,  validation_split=0.1,\n",
        "                    callbacks = [checkpoint, early_stopping, LearningRateScheduler(lr_schedule)])"
      ]
    },
    {
      "cell_type": "code",
      "execution_count": null,
      "metadata": {
        "id": "K2JsOHgO3lSW",
        "outputId": "d62a1e6c-3170-471c-a61a-efe2a079d469",
        "colab": {
          "base_uri": "https://localhost:8080/",
          "height": 468
        }
      },
      "outputs": [
        {
          "output_type": "display_data",
          "data": {
            "text/plain": [
              "<Figure size 640x480 with 2 Axes>"
            ],
            "image/png": "[encoded data removed]"
          },
          "metadata": {}
        },
        {
          "output_type": "stream",
          "name": "stdout",
          "text": [
            "313/313 - 1s - loss: 0.5266 - acc: 0.8467 - 1s/epoch - 4ms/step\n"
          ]
        }
      ],
      "source": [
        "import matplotlib.pyplot as plt\n",
        "\n",
        "plt.figure()\n",
        "\n",
        "# 정확도 그래프\n",
        "plt.subplot(1, 2, 1)\n",
        "plt.plot(history.history['acc'], label='acc')\n",
        "plt.plot(history.history['val_acc'], label='val_acc')\n",
        "plt.ylabel('accuracy')\n",
        "plt.xlabel('epoch')\n",
        "plt.legend(loc='best')\n",
        "\n",
        "# 손실 그래프\n",
        "plt.subplot(1, 2, 2)\n",
        "plt.plot(history.history['loss'], label='loss')\n",
        "plt.plot(history.history['val_loss'], label='val_loss')\n",
        "plt.ylabel('loss')\n",
        "plt.xlabel('epoch')\n",
        "plt.legend(loc='best')\n",
        "\n",
        "plt.show()\n",
        "\n",
        "test_loss, test_acc = model.evaluate(test_images,  test_labels, verbose=2)"
      ]
    },
    {
      "cell_type": "code",
      "execution_count": null,
      "metadata": {
        "id": "SKGWJdbb3kN_"
      },
      "outputs": [],
      "source": [
        "from keras.models import load_model\n",
        "\n",
        "model.save('CNN_CIFAR10.h5')\n",
        "model = load_model('CNN_CIFAR10.h5')"
      ]
    }
  ],
  "metadata": {
    "colab": {
      "provenance": [],
      "gpuType": "T4"
    },
    "kernelspec": {
      "display_name": "Python 3",
      "name": "python3"
    },
    "language_info": {
      "name": "python"
    },
    "accelerator": "GPU",
    "gpuClass": "standard"
  },
  "nbformat": 4,
  "nbformat_minor": 0
}