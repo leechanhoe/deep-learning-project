{
  "cells": [
    {
      "cell_type": "code",
      "execution_count": null,
      "metadata": {
        "colab": {
          "base_uri": "https://localhost:8080/"
        },
        "id": "CwX92Dgf3QZq",
        "outputId": "5b586cfd-632b-4f57-f4d1-ca19103be26d"
      },
      "outputs": [
        {
          "output_type": "stream",
          "name": "stdout",
          "text": [
            "Downloading data from https://www.cs.toronto.edu/~kriz/cifar-10-python.tar.gz\n",
            "170498071/170498071 [==============================] - 3s 0us/step\n"
          ]
        }
      ],
      "source": [
        "from keras.datasets import cifar10\n",
        "\n",
        "(train_images, train_labels), (test_images, test_labels) = cifar10.load_data()"
      ]
    },
    {
      "cell_type": "code",
      "source": [
        "from google.colab import drive\n",
        "drive.mount('/content/drive')"
      ],
      "metadata": {
        "colab": {
          "base_uri": "https://localhost:8080/"
        },
        "id": "YwIcw459Ho03",
        "outputId": "b6c47a25-4375-4c2a-e756-a21953ab188b"
      },
      "execution_count": null,
      "outputs": [
        {
          "output_type": "stream",
          "name": "stdout",
          "text": [
            "Mounted at /content/drive\n"
          ]
        }
      ]
    },
    {
      "cell_type": "code",
      "execution_count": null,
      "metadata": {
        "id": "KAflhzsZ3TN1"
      },
      "outputs": [],
      "source": [
        "from keras.utils import to_categorical\n",
        "\n",
        "train_images = train_images.astype('float32') / 255.0\n",
        "test_images = test_images.astype('float32') / 255.0\n",
        "\n",
        "train_labels = to_categorical(train_labels, 10)\n",
        "test_labels = to_categorical(test_labels, 10)"
      ]
    },
    {
      "cell_type": "code",
      "execution_count": null,
      "metadata": {
        "id": "1yMHoiDR3W1N"
      },
      "outputs": [],
      "source": [
        "from keras.models import Sequential\n",
        "from keras.layers import Conv2D, MaxPool2D, Dropout, Flatten, Dense, BatchNormalization\n",
        "\n",
        "model = Sequential()\n",
        "\n",
        "# Convolutional Block (Conv-Conv-Pool-Dropout)\n",
        "model.add(Conv2D(32, (3, 3), activation='relu', padding='same', input_shape=(32, 32, 3)))\n",
        "model.add(BatchNormalization())\n",
        "model.add(Conv2D(32, (3, 3), activation='relu', padding='same'))\n",
        "model.add(MaxPool2D(pool_size=(2, 2)))\n",
        "model.add(Dropout(0.25))\n",
        "\n",
        "# Convolutional Block (Conv-Conv-Pool-Dropout)\n",
        "model.add(Conv2D(64, (3, 3), activation='relu', padding='same'))\n",
        "model.add(BatchNormalization())\n",
        "model.add(Conv2D(64, (3, 3), activation='relu', padding='same'))\n",
        "model.add(MaxPool2D(pool_size=(2, 2)))\n",
        "model.add(Dropout(0.25))\n",
        "\n",
        "model.add(Conv2D(128, (3, 3), padding='same', activation='relu'))\n",
        "model.add(BatchNormalization())\n",
        "model.add(MaxPool2D(pool_size=(2, 2)))\n",
        "model.add(Dropout(0.25))\n",
        "\n",
        "# Classifying\n",
        "model.add(Flatten())\n",
        "model.add(Dense(512, activation='relu'))\n",
        "model.add(Dropout(0.5))\n",
        "model.add(Dense(10, activation='softmax'))"
      ]
    },
    {
      "cell_type": "code",
      "execution_count": null,
      "metadata": {
        "colab": {
          "base_uri": "https://localhost:8080/"
        },
        "id": "lgb6I6rm3c8X",
        "outputId": "503cdf24-330c-4d69-8b0b-d2e8f8635653"
      },
      "outputs": [
        {
          "output_type": "stream",
          "name": "stderr",
          "text": [
            "/usr/local/lib/python3.10/dist-packages/keras/optimizers/legacy/adam.py:117: UserWarning: The `lr` argument is deprecated, use `learning_rate` instead.\n",
            "  super().__init__(name, **kwargs)\n"
          ]
        }
      ],
      "source": [
        "from keras.optimizers import Adam\n",
        "\n",
        "model.compile(loss='categorical_crossentropy', optimizer=Adam(lr=0.001), metrics=['acc'])"
      ]
    },
    {
      "cell_type": "code",
      "execution_count": null,
      "metadata": {
        "id": "Y91gJ8MB3hpV"
      },
      "outputs": [],
      "source": [
        "from keras.preprocessing.image import ImageDataGenerator\n",
        "import keras\n",
        "\n",
        "# datagen = ImageDataGenerator(\n",
        "#     rotation_range=15,\n",
        "#     width_shift_range=0.1,\n",
        "#     height_shift_range=0.1,\n",
        "#     horizontal_flip=True,\n",
        "#     )\n",
        "# datagen.fit(train_images)\n",
        "\n",
        "def lr_schedule(epoch):\n",
        "    lrate = 0.001\n",
        "    if epoch > 15:\n",
        "        lrate = 0.0005\n",
        "    if epoch > 30:\n",
        "        lrate = 0.0001\n",
        "    if epoch > 45:\n",
        "        lrate = 0.00005\n",
        "    return lrate\n",
        "\n",
        "checkpoint = keras.callbacks.ModelCheckpoint('best_cnn_model.h5', save_best_only=True)\n",
        "# 5번의 연속적인 epoch 동안 개선이 없을 때 학습이 중단되도록 함\n",
        "early_stopping = keras.callbacks.EarlyStopping(patience=20, restore_best_weights=True)"
      ]
    },
    {
      "cell_type": "code",
      "execution_count": null,
      "metadata": {
        "colab": {
          "base_uri": "https://localhost:8080/"
        },
        "id": "U9A3SDOUri8P",
        "outputId": "d2a1b3d5-3747-41ee-dda5-d8a5e1cbb222"
      },
      "outputs": [
        {
          "output_type": "stream",
          "name": "stdout",
          "text": [
            "Epoch 1/100\n",
            "352/352 [==============================] - 373s 1s/step - loss: 1.7552 - acc: 0.3760 - val_loss: 3.0033 - val_acc: 0.2368 - lr: 0.0010\n",
            "Epoch 2/100\n",
            "352/352 [==============================] - 339s 964ms/step - loss: 1.3304 - acc: 0.5207 - val_loss: 1.0758 - val_acc: 0.6158 - lr: 0.0010\n",
            "Epoch 3/100\n",
            "352/352 [==============================] - 345s 979ms/step - loss: 1.1143 - acc: 0.6060 - val_loss: 1.0210 - val_acc: 0.6524 - lr: 0.0010\n",
            "Epoch 4/100\n",
            "352/352 [==============================] - 341s 969ms/step - loss: 0.9906 - acc: 0.6532 - val_loss: 1.2350 - val_acc: 0.5928 - lr: 0.0010\n",
            "Epoch 5/100\n",
            "352/352 [==============================] - 342s 972ms/step - loss: 0.8880 - acc: 0.6913 - val_loss: 0.8742 - val_acc: 0.7112 - lr: 0.0010\n",
            "Epoch 6/100\n",
            "352/352 [==============================] - 341s 967ms/step - loss: 0.8319 - acc: 0.7078 - val_loss: 0.7672 - val_acc: 0.7388 - lr: 0.0010\n",
            "Epoch 7/100\n",
            "352/352 [==============================] - 342s 972ms/step - loss: 0.7730 - acc: 0.7306 - val_loss: 0.9289 - val_acc: 0.6924 - lr: 0.0010\n",
            "Epoch 8/100\n",
            "352/352 [==============================] - 343s 974ms/step - loss: 0.7351 - acc: 0.7440 - val_loss: 0.8934 - val_acc: 0.7144 - lr: 0.0010\n",
            "Epoch 9/100\n",
            "352/352 [==============================] - 343s 973ms/step - loss: 0.6904 - acc: 0.7577 - val_loss: 0.7225 - val_acc: 0.7608 - lr: 0.0010\n",
            "Epoch 10/100\n",
            "352/352 [==============================] - 341s 968ms/step - loss: 0.6561 - acc: 0.7715 - val_loss: 0.5893 - val_acc: 0.7988 - lr: 0.0010\n",
            "Epoch 11/100\n",
            "352/352 [==============================] - 345s 982ms/step - loss: 0.6217 - acc: 0.7854 - val_loss: 0.5930 - val_acc: 0.8002 - lr: 0.0010\n",
            "Epoch 12/100\n",
            "352/352 [==============================] - 345s 980ms/step - loss: 0.5891 - acc: 0.7947 - val_loss: 0.5861 - val_acc: 0.8046 - lr: 0.0010\n",
            "Epoch 13/100\n",
            "352/352 [==============================] - 344s 977ms/step - loss: 0.5671 - acc: 0.8018 - val_loss: 0.7209 - val_acc: 0.7768 - lr: 0.0010\n",
            "Epoch 14/100\n",
            "352/352 [==============================] - 342s 971ms/step - loss: 0.5476 - acc: 0.8088 - val_loss: 0.6078 - val_acc: 0.8122 - lr: 0.0010\n",
            "Epoch 15/100\n",
            "352/352 [==============================] - 342s 971ms/step - loss: 0.5264 - acc: 0.8167 - val_loss: 0.6334 - val_acc: 0.8092 - lr: 0.0010\n",
            "Epoch 16/100\n",
            "352/352 [==============================] - 342s 971ms/step - loss: 0.5127 - acc: 0.8237 - val_loss: 0.6376 - val_acc: 0.7992 - lr: 0.0010\n",
            "Epoch 17/100\n",
            "352/352 [==============================] - 341s 968ms/step - loss: 0.4812 - acc: 0.8311 - val_loss: 0.5652 - val_acc: 0.8234 - lr: 0.0010\n",
            "Epoch 18/100\n",
            "352/352 [==============================] - 340s 966ms/step - loss: 0.4723 - acc: 0.8354 - val_loss: 0.5357 - val_acc: 0.8316 - lr: 0.0010\n",
            "Epoch 19/100\n",
            "352/352 [==============================] - 340s 967ms/step - loss: 0.4567 - acc: 0.8425 - val_loss: 0.5350 - val_acc: 0.8252 - lr: 0.0010\n",
            "Epoch 20/100\n",
            "352/352 [==============================] - 345s 979ms/step - loss: 0.4384 - acc: 0.8472 - val_loss: 0.6872 - val_acc: 0.7968 - lr: 0.0010\n",
            "Epoch 21/100\n",
            "352/352 [==============================] - 336s 955ms/step - loss: 0.4271 - acc: 0.8507 - val_loss: 0.5347 - val_acc: 0.8404 - lr: 0.0010\n",
            "Epoch 22/100\n",
            "352/352 [==============================] - 338s 962ms/step - loss: 0.4128 - acc: 0.8573 - val_loss: 0.6489 - val_acc: 0.8192 - lr: 0.0010\n",
            "Epoch 23/100\n",
            "352/352 [==============================] - 338s 960ms/step - loss: 0.3988 - acc: 0.8598 - val_loss: 0.5486 - val_acc: 0.8358 - lr: 0.0010\n",
            "Epoch 24/100\n",
            "352/352 [==============================] - 338s 961ms/step - loss: 0.3841 - acc: 0.8667 - val_loss: 0.5689 - val_acc: 0.8296 - lr: 0.0010\n",
            "Epoch 25/100\n",
            "352/352 [==============================] - 337s 959ms/step - loss: 0.3769 - acc: 0.8675 - val_loss: 0.5033 - val_acc: 0.8472 - lr: 0.0010\n",
            "Epoch 26/100\n",
            "352/352 [==============================] - 337s 957ms/step - loss: 0.3757 - acc: 0.8703 - val_loss: 0.5487 - val_acc: 0.8420 - lr: 0.0010\n",
            "Epoch 27/100\n",
            "352/352 [==============================] - 336s 954ms/step - loss: 0.3126 - acc: 0.8902 - val_loss: 0.5310 - val_acc: 0.8528 - lr: 5.0000e-04\n",
            "Epoch 28/100\n",
            "352/352 [==============================] - 336s 955ms/step - loss: 0.2945 - acc: 0.8967 - val_loss: 0.5259 - val_acc: 0.8562 - lr: 5.0000e-04\n",
            "Epoch 29/100\n",
            "352/352 [==============================] - 333s 946ms/step - loss: 0.2826 - acc: 0.9002 - val_loss: 0.5164 - val_acc: 0.8564 - lr: 5.0000e-04\n",
            "Epoch 30/100\n",
            "352/352 [==============================] - 340s 967ms/step - loss: 0.2753 - acc: 0.9029 - val_loss: 0.5373 - val_acc: 0.8560 - lr: 5.0000e-04\n",
            "Epoch 31/100\n",
            "352/352 [==============================] - 335s 951ms/step - loss: 0.2701 - acc: 0.9063 - val_loss: 0.5409 - val_acc: 0.8566 - lr: 5.0000e-04\n",
            "Epoch 32/100\n",
            "352/352 [==============================] - 336s 955ms/step - loss: 0.2588 - acc: 0.9098 - val_loss: 0.4969 - val_acc: 0.8604 - lr: 5.0000e-04\n",
            "Epoch 33/100\n",
            "352/352 [==============================] - 337s 958ms/step - loss: 0.2542 - acc: 0.9108 - val_loss: 0.5624 - val_acc: 0.8494 - lr: 5.0000e-04\n",
            "Epoch 34/100\n",
            "352/352 [==============================] - 336s 955ms/step - loss: 0.2516 - acc: 0.9106 - val_loss: 0.5151 - val_acc: 0.8588 - lr: 5.0000e-04\n",
            "Epoch 35/100\n",
            "352/352 [==============================] - 336s 954ms/step - loss: 0.2459 - acc: 0.9135 - val_loss: 0.5069 - val_acc: 0.8586 - lr: 5.0000e-04\n",
            "Epoch 36/100\n",
            "352/352 [==============================] - 336s 954ms/step - loss: 0.2391 - acc: 0.9158 - val_loss: 0.5376 - val_acc: 0.8606 - lr: 5.0000e-04\n",
            "Epoch 37/100\n",
            "352/352 [==============================] - 338s 962ms/step - loss: 0.2389 - acc: 0.9159 - val_loss: 0.5205 - val_acc: 0.8614 - lr: 5.0000e-04\n",
            "Epoch 38/100\n",
            "352/352 [==============================] - 336s 956ms/step - loss: 0.2288 - acc: 0.9202 - val_loss: 0.5102 - val_acc: 0.8688 - lr: 5.0000e-04\n",
            "Epoch 39/100\n",
            "352/352 [==============================] - 340s 967ms/step - loss: 0.2308 - acc: 0.9184 - val_loss: 0.5225 - val_acc: 0.8588 - lr: 5.0000e-04\n",
            "Epoch 40/100\n",
            "352/352 [==============================] - 339s 963ms/step - loss: 0.2231 - acc: 0.9216 - val_loss: 0.5402 - val_acc: 0.8610 - lr: 5.0000e-04\n",
            "Epoch 41/100\n",
            "352/352 [==============================] - 339s 962ms/step - loss: 0.2236 - acc: 0.9209 - val_loss: 0.5161 - val_acc: 0.8626 - lr: 5.0000e-04\n",
            "Epoch 42/100\n",
            "352/352 [==============================] - 336s 954ms/step - loss: 0.2181 - acc: 0.9238 - val_loss: 0.5353 - val_acc: 0.8646 - lr: 5.0000e-04\n",
            "Epoch 43/100\n",
            "352/352 [==============================] - 338s 960ms/step - loss: 0.2151 - acc: 0.9245 - val_loss: 0.5431 - val_acc: 0.8646 - lr: 5.0000e-04\n",
            "Epoch 44/100\n",
            "352/352 [==============================] - 333s 946ms/step - loss: 0.2108 - acc: 0.9249 - val_loss: 0.5569 - val_acc: 0.8590 - lr: 5.0000e-04\n",
            "Epoch 45/100\n",
            "352/352 [==============================] - 336s 956ms/step - loss: 0.2086 - acc: 0.9264 - val_loss: 0.5822 - val_acc: 0.8568 - lr: 5.0000e-04\n",
            "Epoch 46/100\n",
            "352/352 [==============================] - 336s 954ms/step - loss: 0.2108 - acc: 0.9261 - val_loss: 0.5865 - val_acc: 0.8566 - lr: 5.0000e-04\n",
            "Epoch 47/100\n",
            "352/352 [==============================] - 335s 952ms/step - loss: 0.2017 - acc: 0.9282 - val_loss: 0.5779 - val_acc: 0.8550 - lr: 5.0000e-04\n",
            "Epoch 48/100\n",
            "352/352 [==============================] - 336s 956ms/step - loss: 0.1990 - acc: 0.9303 - val_loss: 0.5660 - val_acc: 0.8646 - lr: 5.0000e-04\n",
            "Epoch 49/100\n",
            "352/352 [==============================] - 335s 951ms/step - loss: 0.1954 - acc: 0.9317 - val_loss: 0.5584 - val_acc: 0.8652 - lr: 5.0000e-04\n",
            "Epoch 50/100\n",
            "352/352 [==============================] - 335s 951ms/step - loss: 0.1929 - acc: 0.9329 - val_loss: 0.6182 - val_acc: 0.8540 - lr: 5.0000e-04\n",
            "Epoch 51/100\n",
            "352/352 [==============================] - 334s 950ms/step - loss: 0.1929 - acc: 0.9330 - val_loss: 0.5558 - val_acc: 0.8582 - lr: 5.0000e-04\n",
            "Epoch 52/100\n",
            "352/352 [==============================] - 334s 948ms/step - loss: 0.1749 - acc: 0.9384 - val_loss: 0.5669 - val_acc: 0.8672 - lr: 3.0000e-04\n"
          ]
        }
      ],
      "source": [
        "from keras.callbacks import LearningRateScheduler\n",
        "\n",
        "history = model.fit(train_images, train_labels, batch_size=128, epochs=60,  validation_split=0.1,\n",
        "                    callbacks = [checkpoint, early_stopping, LearningRateScheduler(lr_schedule)])"
      ]
    },
    {
      "cell_type": "code",
      "execution_count": null,
      "metadata": {
        "colab": {
          "base_uri": "https://localhost:8080/",
          "height": 202
        },
        "id": "K2JsOHgO3lSW",
        "outputId": "0ab17dcf-6a72-4b75-cb7b-d0f74c4b498f"
      },
      "outputs": [
        {
          "output_type": "display_data",
          "data": {
            "text/plain": [
              "<Figure size 640x480 with 2 Axes>"
            ],
            "image/png": "[encoded data removed]"
          },
          "metadata": {}
        },
        {
          "output_type": "stream",
          "name": "stdout",
          "text": [
            "313/313 - 18s - loss: 0.5456 - acc: 0.8470 - 18s/epoch - 57ms/step\n"
          ]
        }
      ],
      "source": [
        "import matplotlib.pyplot as plt\n",
        "\n",
        "plt.figure()\n",
        "\n",
        "# 정확도 그래프\n",
        "plt.subplot(1, 2, 1)\n",
        "plt.plot(history.history['acc'], label='acc')\n",
        "plt.plot(history.history['val_acc'], label='val_acc')\n",
        "plt.ylabel('accuracy')\n",
        "plt.xlabel('epoch')\n",
        "plt.legend(loc='best')\n",
        "\n",
        "# 손실 그래프\n",
        "plt.subplot(1, 2, 2)\n",
        "plt.plot(history.history['loss'], label='loss')\n",
        "plt.plot(history.history['val_loss'], label='val_loss')\n",
        "plt.ylabel('loss')\n",
        "plt.xlabel('epoch')\n",
        "plt.legend(loc='best')\n",
        "\n",
        "plt.show()\n",
        "\n",
        "test_loss, test_acc = model.evaluate(test_images,  test_labels, verbose=2)"
      ]
    }
  ],
  "metadata": {
    "colab": {
      "provenance": []
    },
    "kernelspec": {
      "display_name": "Python 3",
      "name": "python3"
    },
    "language_info": {
      "name": "python"
    }
  },
  "nbformat": 4,
  "nbformat_minor": 0
}