{
  "cells": [
    {
      "cell_type": "code",
      "execution_count": 1,
      "metadata": {
        "colab": {
          "base_uri": "https://localhost:8080/"
        },
        "id": "CwX92Dgf3QZq",
        "outputId": "22392015-6587-44b3-ffc0-1dac61c5f770"
      },
      "outputs": [
        {
          "output_type": "stream",
          "name": "stdout",
          "text": [
            "Downloading data from https://www.cs.toronto.edu/~kriz/cifar-10-python.tar.gz\n",
            "170498071/170498071 [==============================] - 6s 0us/step\n"
          ]
        }
      ],
      "source": [
        "from keras.datasets import cifar10\n",
        "\n",
        "(train_images, train_labels), (test_images, test_labels) = cifar10.load_data()"
      ]
    },
    {
      "cell_type": "code",
      "execution_count": 3,
      "metadata": {
        "id": "KAflhzsZ3TN1"
      },
      "outputs": [],
      "source": [
        "from keras.utils import to_categorical\n",
        "\n",
        "train_images = train_images.astype('float32') / 255.0\n",
        "test_images = test_images.astype('float32') / 255.0\n",
        "\n",
        "train_labels = to_categorical(train_labels, 10)\n",
        "test_labels = to_categorical(test_labels, 10)"
      ]
    },
    {
      "cell_type": "code",
      "execution_count": 4,
      "metadata": {
        "id": "1yMHoiDR3W1N"
      },
      "outputs": [],
      "source": [
        "from keras.models import Sequential\n",
        "from keras.layers import Conv2D, MaxPool2D, Dropout, Flatten, Dense, BatchNormalization\n",
        "\n",
        "model = Sequential()\n",
        "\n",
        "# Convolutional Block (Conv-Conv-Pool-Dropout)\n",
        "model.add(Conv2D(32, (3, 3), activation='relu', padding='same', input_shape=(32, 32, 3)))\n",
        "model.add(BatchNormalization())\n",
        "model.add(Conv2D(32, (3, 3), activation='relu', padding='same'))\n",
        "model.add(MaxPool2D(pool_size=(2, 2)))\n",
        "model.add(Dropout(0.25))\n",
        "\n",
        "# Convolutional Block (Conv-Conv-Pool-Dropout)\n",
        "model.add(Conv2D(64, (3, 3), activation='relu', padding='same'))\n",
        "model.add(BatchNormalization())\n",
        "model.add(Conv2D(64, (3, 3), activation='relu', padding='same'))\n",
        "model.add(MaxPool2D(pool_size=(2, 2)))\n",
        "model.add(Dropout(0.25))\n",
        "\n",
        "model.add(Conv2D(128, (3, 3), padding='same', activation='relu'))\n",
        "model.add(BatchNormalization())\n",
        "model.add(MaxPool2D(pool_size=(2, 2)))\n",
        "model.add(Dropout(0.25))\n",
        "\n",
        "# Classifying\n",
        "model.add(Flatten())\n",
        "model.add(Dense(512, activation='relu'))\n",
        "model.add(Dropout(0.5))\n",
        "model.add(Dense(10, activation='softmax'))"
      ]
    },
    {
      "cell_type": "code",
      "execution_count": 5,
      "metadata": {
        "colab": {
          "base_uri": "https://localhost:8080/"
        },
        "id": "lgb6I6rm3c8X",
        "outputId": "dcca4add-e2cc-4e9e-a551-e21a0b4f8278"
      },
      "outputs": [
        {
          "output_type": "stream",
          "name": "stderr",
          "text": [
            "/usr/local/lib/python3.10/dist-packages/keras/optimizers/legacy/adam.py:117: UserWarning: The `lr` argument is deprecated, use `learning_rate` instead.\n",
            "  super().__init__(name, **kwargs)\n"
          ]
        }
      ],
      "source": [
        "from keras.optimizers import Adam\n",
        "\n",
        "model.compile(loss='categorical_crossentropy', optimizer=Adam(lr=0.001), metrics=['acc'])"
      ]
    },
    {
      "cell_type": "code",
      "execution_count": 6,
      "metadata": {
        "id": "Y91gJ8MB3hpV"
      },
      "outputs": [],
      "source": [
        "from keras.preprocessing.image import ImageDataGenerator\n",
        "import keras\n",
        "\n",
        "def lr_schedule(epoch):\n",
        "    lrate = 0.001\n",
        "    if epoch > 10:\n",
        "        lrate = 0.0005\n",
        "    if epoch > 20:\n",
        "        lrate = 0.0001\n",
        "    if epoch > 30:\n",
        "        lrate = 0.00005\n",
        "    return lrate\n",
        "\n",
        "checkpoint = keras.callbacks.ModelCheckpoint('best_cnn_model.h5', save_best_only=True)\n",
        "# 20번의 연속적인 epoch 동안 개선이 없을 때 학습이 중단되도록 함\n",
        "early_stopping = keras.callbacks.EarlyStopping(patience=20, restore_best_weights=True)"
      ]
    },
    {
      "cell_type": "code",
      "execution_count": 7,
      "metadata": {
        "colab": {
          "base_uri": "https://localhost:8080/"
        },
        "id": "U9A3SDOUri8P",
        "outputId": "847b88de-f3a6-436d-e530-d21f90b81dc3"
      },
      "outputs": [
        {
          "output_type": "stream",
          "name": "stdout",
          "text": [
            "Epoch 1/100\n",
            "352/352 [==============================] - 16s 20ms/step - loss: 1.7270 - acc: 0.3867 - val_loss: 3.3099 - val_acc: 0.2172 - lr: 0.0010\n",
            "Epoch 2/100\n",
            "352/352 [==============================] - 7s 19ms/step - loss: 1.3341 - acc: 0.5180 - val_loss: 1.4121 - val_acc: 0.5480 - lr: 0.0010\n",
            "Epoch 3/100\n",
            "352/352 [==============================] - 6s 18ms/step - loss: 1.1386 - acc: 0.5953 - val_loss: 0.9805 - val_acc: 0.6546 - lr: 0.0010\n",
            "Epoch 4/100\n",
            "352/352 [==============================] - 8s 23ms/step - loss: 0.9992 - acc: 0.6468 - val_loss: 1.0233 - val_acc: 0.6670 - lr: 0.0010\n",
            "Epoch 5/100\n",
            "352/352 [==============================] - 7s 20ms/step - loss: 0.9050 - acc: 0.6835 - val_loss: 0.7966 - val_acc: 0.7344 - lr: 0.0010\n",
            "Epoch 6/100\n",
            "352/352 [==============================] - 6s 17ms/step - loss: 0.8347 - acc: 0.7075 - val_loss: 0.8007 - val_acc: 0.7340 - lr: 0.0010\n",
            "Epoch 7/100\n",
            "352/352 [==============================] - 8s 23ms/step - loss: 0.7805 - acc: 0.7272 - val_loss: 0.9343 - val_acc: 0.7116 - lr: 0.0010\n",
            "Epoch 8/100\n",
            "352/352 [==============================] - 6s 17ms/step - loss: 0.7340 - acc: 0.7459 - val_loss: 0.6759 - val_acc: 0.7678 - lr: 0.0010\n",
            "Epoch 9/100\n",
            "352/352 [==============================] - 6s 18ms/step - loss: 0.6990 - acc: 0.7539 - val_loss: 1.0038 - val_acc: 0.6924 - lr: 0.0010\n",
            "Epoch 10/100\n",
            "352/352 [==============================] - 6s 17ms/step - loss: 0.6610 - acc: 0.7696 - val_loss: 0.6889 - val_acc: 0.7770 - lr: 0.0010\n",
            "Epoch 11/100\n",
            "352/352 [==============================] - 6s 18ms/step - loss: 0.6339 - acc: 0.7798 - val_loss: 0.7046 - val_acc: 0.7780 - lr: 0.0010\n",
            "Epoch 12/100\n",
            "352/352 [==============================] - 6s 17ms/step - loss: 0.5525 - acc: 0.8068 - val_loss: 0.5689 - val_acc: 0.8146 - lr: 5.0000e-04\n",
            "Epoch 13/100\n",
            "352/352 [==============================] - 6s 18ms/step - loss: 0.5189 - acc: 0.8175 - val_loss: 0.5625 - val_acc: 0.8244 - lr: 5.0000e-04\n",
            "Epoch 14/100\n",
            "352/352 [==============================] - 6s 18ms/step - loss: 0.4964 - acc: 0.8283 - val_loss: 0.5334 - val_acc: 0.8306 - lr: 5.0000e-04\n",
            "Epoch 15/100\n",
            "352/352 [==============================] - 6s 17ms/step - loss: 0.4739 - acc: 0.8324 - val_loss: 0.5774 - val_acc: 0.8208 - lr: 5.0000e-04\n",
            "Epoch 16/100\n",
            "352/352 [==============================] - 6s 18ms/step - loss: 0.4619 - acc: 0.8376 - val_loss: 0.5579 - val_acc: 0.8286 - lr: 5.0000e-04\n",
            "Epoch 17/100\n",
            "352/352 [==============================] - 6s 17ms/step - loss: 0.4457 - acc: 0.8426 - val_loss: 0.5504 - val_acc: 0.8240 - lr: 5.0000e-04\n",
            "Epoch 18/100\n",
            "352/352 [==============================] - 7s 19ms/step - loss: 0.4300 - acc: 0.8481 - val_loss: 0.5165 - val_acc: 0.8338 - lr: 5.0000e-04\n",
            "Epoch 19/100\n",
            "352/352 [==============================] - 6s 18ms/step - loss: 0.4175 - acc: 0.8531 - val_loss: 0.5672 - val_acc: 0.8260 - lr: 5.0000e-04\n",
            "Epoch 20/100\n",
            "352/352 [==============================] - 6s 18ms/step - loss: 0.4036 - acc: 0.8579 - val_loss: 0.5127 - val_acc: 0.8372 - lr: 5.0000e-04\n",
            "Epoch 21/100\n",
            "352/352 [==============================] - 6s 17ms/step - loss: 0.3905 - acc: 0.8640 - val_loss: 0.6095 - val_acc: 0.8316 - lr: 5.0000e-04\n",
            "Epoch 22/100\n",
            "352/352 [==============================] - 6s 18ms/step - loss: 0.3460 - acc: 0.8788 - val_loss: 0.5243 - val_acc: 0.8492 - lr: 1.0000e-04\n",
            "Epoch 23/100\n",
            "352/352 [==============================] - 6s 17ms/step - loss: 0.3284 - acc: 0.8832 - val_loss: 0.5407 - val_acc: 0.8488 - lr: 1.0000e-04\n",
            "Epoch 24/100\n",
            "352/352 [==============================] - 6s 17ms/step - loss: 0.3167 - acc: 0.8883 - val_loss: 0.5220 - val_acc: 0.8500 - lr: 1.0000e-04\n",
            "Epoch 25/100\n",
            "352/352 [==============================] - 6s 18ms/step - loss: 0.3151 - acc: 0.8868 - val_loss: 0.5238 - val_acc: 0.8518 - lr: 1.0000e-04\n",
            "Epoch 26/100\n",
            "352/352 [==============================] - 6s 17ms/step - loss: 0.3067 - acc: 0.8920 - val_loss: 0.5278 - val_acc: 0.8514 - lr: 1.0000e-04\n",
            "Epoch 27/100\n",
            "352/352 [==============================] - 7s 19ms/step - loss: 0.3047 - acc: 0.8918 - val_loss: 0.5304 - val_acc: 0.8526 - lr: 1.0000e-04\n",
            "Epoch 28/100\n",
            "352/352 [==============================] - 6s 18ms/step - loss: 0.2958 - acc: 0.8954 - val_loss: 0.5294 - val_acc: 0.8510 - lr: 1.0000e-04\n",
            "Epoch 29/100\n",
            "352/352 [==============================] - 7s 19ms/step - loss: 0.2895 - acc: 0.8965 - val_loss: 0.5236 - val_acc: 0.8524 - lr: 1.0000e-04\n",
            "Epoch 30/100\n",
            "352/352 [==============================] - 6s 18ms/step - loss: 0.2944 - acc: 0.8952 - val_loss: 0.5144 - val_acc: 0.8552 - lr: 1.0000e-04\n",
            "Epoch 31/100\n",
            "352/352 [==============================] - 6s 18ms/step - loss: 0.2854 - acc: 0.8984 - val_loss: 0.5185 - val_acc: 0.8546 - lr: 1.0000e-04\n",
            "Epoch 32/100\n",
            "352/352 [==============================] - 6s 18ms/step - loss: 0.2772 - acc: 0.9009 - val_loss: 0.5250 - val_acc: 0.8532 - lr: 5.0000e-05\n",
            "Epoch 33/100\n",
            "352/352 [==============================] - 6s 17ms/step - loss: 0.2753 - acc: 0.9016 - val_loss: 0.5450 - val_acc: 0.8510 - lr: 5.0000e-05\n",
            "Epoch 34/100\n",
            "352/352 [==============================] - 6s 18ms/step - loss: 0.2759 - acc: 0.9010 - val_loss: 0.5315 - val_acc: 0.8526 - lr: 5.0000e-05\n",
            "Epoch 35/100\n",
            "352/352 [==============================] - 6s 17ms/step - loss: 0.2683 - acc: 0.9045 - val_loss: 0.5455 - val_acc: 0.8518 - lr: 5.0000e-05\n",
            "Epoch 36/100\n",
            "352/352 [==============================] - 6s 18ms/step - loss: 0.2647 - acc: 0.9049 - val_loss: 0.5284 - val_acc: 0.8524 - lr: 5.0000e-05\n",
            "Epoch 37/100\n",
            "352/352 [==============================] - 6s 17ms/step - loss: 0.2665 - acc: 0.9047 - val_loss: 0.5260 - val_acc: 0.8530 - lr: 5.0000e-05\n",
            "Epoch 38/100\n",
            "352/352 [==============================] - 6s 18ms/step - loss: 0.2592 - acc: 0.9082 - val_loss: 0.5335 - val_acc: 0.8548 - lr: 5.0000e-05\n",
            "Epoch 39/100\n",
            "352/352 [==============================] - 6s 17ms/step - loss: 0.2622 - acc: 0.9071 - val_loss: 0.5267 - val_acc: 0.8582 - lr: 5.0000e-05\n",
            "Epoch 40/100\n",
            "352/352 [==============================] - 6s 18ms/step - loss: 0.2585 - acc: 0.9089 - val_loss: 0.5376 - val_acc: 0.8528 - lr: 5.0000e-05\n"
          ]
        }
      ],
      "source": [
        "from keras.callbacks import LearningRateScheduler\n",
        "\n",
        "history = model.fit(train_images, train_labels, batch_size=128, epochs=100,  validation_split=0.1,\n",
        "                    callbacks = [checkpoint, early_stopping, LearningRateScheduler(lr_schedule)])"
      ]
    },
    {
      "cell_type": "code",
      "execution_count": 9,
      "metadata": {
        "colab": {
          "base_uri": "https://localhost:8080/",
          "height": 468
        },
        "id": "K2JsOHgO3lSW",
        "outputId": "442ae346-3830-4a6c-dc96-4cfc16263607"
      },
      "outputs": [
        {
          "output_type": "display_data",
          "data": {
            "text/plain": [
              "<Figure size 640x480 with 2 Axes>"
            ],
            "image/png": "[encoded data removed]"
          },
          "metadata": {}
        },
        {
          "output_type": "stream",
          "name": "stdout",
          "text": [
            "313/313 - 1s - loss: 0.5347 - acc: 0.8315 - 1s/epoch - 4ms/step\n"
          ]
        }
      ],
      "source": [
        "import matplotlib.pyplot as plt\n",
        "\n",
        "plt.figure()\n",
        "\n",
        "# 정확도 그래프\n",
        "plt.subplot(1, 2, 1)\n",
        "plt.plot(history.history['acc'], label='acc')\n",
        "plt.plot(history.history['val_acc'], label='val_acc')\n",
        "plt.ylabel('accuracy')\n",
        "plt.xlabel('epoch')\n",
        "plt.legend(loc='best')\n",
        "\n",
        "# 손실 그래프\n",
        "plt.subplot(1, 2, 2)\n",
        "plt.plot(history.history['loss'], label='loss')\n",
        "plt.plot(history.history['val_loss'], label='val_loss')\n",
        "plt.ylabel('loss')\n",
        "plt.xlabel('epoch')\n",
        "plt.legend(loc='best')\n",
        "\n",
        "plt.show()\n",
        "\n",
        "test_loss, test_acc = model.evaluate(test_images,  test_labels, verbose=2)"
      ]
    },
    {
      "cell_type": "code",
      "source": [],
      "metadata": {
        "id": "eWlqGpBbLE5z"
      },
      "execution_count": null,
      "outputs": []
    }
  ],
  "metadata": {
    "colab": {
      "provenance": [],
      "gpuType": "T4"
    },
    "kernelspec": {
      "display_name": "Python 3",
      "name": "python3"
    },
    "language_info": {
      "name": "python"
    },
    "accelerator": "GPU"
  },
  "nbformat": 4,
  "nbformat_minor": 0
}